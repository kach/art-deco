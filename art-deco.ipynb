{
 "cells": [
  {
   "cell_type": "markdown",
   "id": "c026b832-dfee-407c-a932-d5f8ae1bdd3e",
   "metadata": {},
   "source": [
    "# Art-Deco DSLs: beyond operator overloading\n",
    "\n",
    "I think one of the greatest ideas in computer science is the notion of an **\"embedded DSL\"**: the idea that programming languages come in all shapes and sizes, and that little domain-specific languages (DSLs) can fit nicely within larger general-purpose languages. For example, many popular array-programming DSLs like [NumPy](https://numpy.org/), [PyTorch](https://pytorch.org/) and [JAX](https://github.com/jax-ml/jax) live _within_ the general-purpose language Python.\n",
    "\n",
    "Python in particular is a great language to build embedded DSLs in, because DSLs can use Python's elegant [_operator overloading interface_](https://docs.python.org/3/reference/datamodel.html#special-method-names) to repurpose existing Python syntax for their own specialized semantics (e.g. repurposing the `+` operator for vectorized array operations). There is a lot to like about embedding DSLs this way:\n",
    "1. Embedded DSLs inherit a lot of comforts \"for free\" from having Python as the host language (e.g. parsing, error checking, editor tooling, syntax highlighting, built-in data types, package registry, …).\n",
    "2. Embedded DSLs immediately integrate with the Python language, and even the broader module ecosystem (including other DSLs). For example, you can do a computation with NumPy or PyTorch and then plot the result with Matplotlib.\n",
    "3. Potential users often already know Python, so it is not hard to convince them to try an embedded DSL.\n",
    "\n",
    "So why _wouldn't_ you implement your next DSL by operator-overloading in Python?\n",
    "\n",
    "**One fundamental limitation of operator overloading** is that it cannot help you override Python's semantics for **control flow** (e.g. the semantics of the `if` statement) or **scoping** (e.g. the semantics of variable assignment). This often leads to awkward, unergonomic designs. For example, because JAX cannot override Python's `if` or `while` statements by operator overloading, conditionals and loops are [messy](https://jax.readthedocs.io/en/latest/control-flow.html#control-flow) to work with. Similarly, a probabilistic programming language really does need traverse both branches of an `if` statement whose predicate depends on a random choice—but you cannot implement that with pure operator overloading.\n",
    "\n",
    "For this reason, many new DSLs over the last few years (e.g. [SEJITS](https://sejits.eecs.berkeley.edu/), [Taichi](https://github.com/taichi-dev/taichi), [Numba](https://numba.pydata.org/), [Exo](https://github.com/exo-lang/exo), [memo](https://github.com/kach/memo), [Dr.Jit](https://github.com/mitsuba-renderer/drjit), [Allo](https://github.com/cornell-zhang/allo), [loma](https://github.com/BachiLi/loma_public)) have taken **a clever new approach to embedding**: _parsing and transforming Python ASTs directly within Python_, using Python's built-in mechanisms for introspection. These DSLs work by providing a Python [decorator](https://docs.python.org/3/glossary.html#term-decorator) that is used to mark a definition as DSL code rather than Python code. The decorators never intend to actually execute the definition they decorate. Instead, they do something sneaky: they read in the decorated definition's Python AST, and then compile that AST it _as if_ it were code in the DSL, i.e. under the DSL's artificial semantics rather than Python's natural semantics. This creates the illusion of the DSL's code running seamlessly within Python. I think of these as \"artificial decorators\"; hence, among friends I call them **\"Art-Deco DSLs.\"**\n",
    "\n",
    "This pattern is _very_ powerful. It lets us build arbitrarily complex DSLs on top of Python's rich syntax, borrowing as much or as little of Python's existing semantics as we wish. For example, I will show you how to build a simple toy DSL called \"env\" which augments Python such that all-caps variable names get automatically looked up in the shell's environment (as in shell scripts).\n",
    "\n",
    "```python\n",
    "@env\n",
    "def whoami():\n",
    "    return \"You are: \" + USER\n",
    "print(whoami())\n",
    "```\n",
    "\n",
    "The env DSL is very simple and just extends Python's scoping behavior while preserving the rest of the semantics as-is. Other DSLs might rewrite the semantics entirely. For example, we could build an Art-Deco implementation of Conway's [FRACTRAN language](https://en.wikipedia.org/wiki/FRACTRAN#). Here, a sequence of Python integer literals and division operators gets interpreted _as if_ it were FRACTRAN code.\n",
    "\n",
    "```python\n",
    "@fractran\n",
    "def multiply(a, b):\n",
    "    455/33\n",
    "    11/13\n",
    "    1/11\n",
    "    3/7\n",
    "    11/2\n",
    "    1/3\n",
    "print(multiply(3, 4))  # 12\n",
    "```\n",
    "\n",
    "Similarly, we might creatively reinterpret Python's syntax to provide a convenient Graphviz-like syntax for defining graphs. This language doesn't really have _any_ runtime semantics to speak of: it's just syntactic sugar to describe data in a convenient format.\n",
    "\n",
    "```python\n",
    "@digraph\n",
    "def G():\n",
    "    a >> b >> c\n",
    "    a >> c (linestyle=dashed)\n",
    "```\n",
    "\n",
    "I think the Art-Deco pattern is really worth knowing, and so for future DSL designers I've compiled some notes on how to build DSLs this way. Most of this is straightforward, and I would expect that from this description alone a proficient Python programmer could come up with the rest of this guide on their own by consulting the Python documentation. But there are some tricky bits here and there to watch out for, and I think there is value in collecting everything all in one page…"
   ]
  },
  {
   "cell_type": "markdown",
   "id": "0a052d8d-ed72-4bbb-b8ab-d1fc63028a6e",
   "metadata": {},
   "source": [
    "## Decorators\n",
    "\n",
    "A [decorator](https://docs.python.org/3/glossary.html#term-decorator) is a Python \"wrapper\" function that is applied to another function as soon as it is defined. To apply decorator `deco` to function `foo`'s definition, you prefix `foo`'s definition with `@deco`. This calls decorator `deco` with function `foo` as the argument, i.e. it runs `deco(foo)`."
   ]
  },
  {
   "cell_type": "code",
   "execution_count": 1,
   "id": "7377cd9c-5728-4265-862c-e3578554b722",
   "metadata": {},
   "outputs": [
    {
     "name": "stdout",
     "output_type": "stream",
     "text": [
      "Called decorator on function \"foo\".\n"
     ]
    }
   ],
   "source": [
    "def deco(f):  # Definition of decorator (just a function)\n",
    "    print(f'Called decorator on function \"{f.__name__}\".')\n",
    "\n",
    "@deco  # Decorator applied to definition of \"foo\"\n",
    "def foo():  # Definition of \"foo\"\n",
    "    print(\"Hello, world!\")"
   ]
  },
  {
   "cell_type": "markdown",
   "id": "6a642f24-3cd2-4fdf-bc28-feedf0781d8b",
   "metadata": {},
   "source": [
    "Notice that the function `foo` never actually ran (that is, the text \"Hello, world!\" was never printed).\n",
    "\n",
    "The return value of a decorator replaces definition it decorates. Hence, if a decorator itself returns a function, it creates the illusion of replacing that function with a modified version of itself. For example, here is a decorator `@diff` that replaces the given function `f` with an approximation of its derivative `df`. To do this, the decorator defines a new function `df`, which internally calls the original `f` at `x` and `x + dx` to compute a finite-difference estimate of the derivative. Then the decorator returns `df`, which means `f` is replaced with `df`. Notice that `df` is a totally different function from `f` — it even has a different signature! They just happen to be related in the sense that `df` calls `f` twice to compute the finite difference. In general, a decorator can return an arbitrary function (or even an object that isn't a function at all)."
   ]
  },
  {
   "cell_type": "code",
   "execution_count": 2,
   "id": "51f9eb2c-88bb-41ec-a6b2-eb3c51724f85",
   "metadata": {},
   "outputs": [
    {
     "name": "stdout",
     "output_type": "stream",
     "text": [
      "2.0100000000000007\n",
      "2.000000165480742\n"
     ]
    }
   ],
   "source": [
    "def diff(f):\n",
    "    def df(x, dx=0.01):\n",
    "        return (f(x + dx) - f(x)) / dx\n",
    "    return df\n",
    "\n",
    "@diff\n",
    "def d_square(x):  # square will be replaced by its derivative\n",
    "    return x * x\n",
    "\n",
    "print(d_square(1))\n",
    "print(d_square(1, dx=1e-10))  # a better estimate"
   ]
  },
  {
   "cell_type": "markdown",
   "id": "3b8c51c9-a877-46b3-be8f-088bf45e0b14",
   "metadata": {},
   "source": [
    "This \"wrapper function\" pattern is the most common way to use decorators. For example, Python's built-in [`functools.cache`](https://docs.python.org/3/library/functools.html#functools.cache) decorator memoizes a function by wrapping it in a helper that first consults a lookup table.\n",
    "\n",
    "In the art-deco pattern, we use this machinery to do something a little different. We write a decorator that takes `f` as input, treats `f`'s AST as code written in the DSL, and then generates new Python code by compiling `f` under the DSL's semantics. This creates the illusion of `f` \"running\" under the DSL's semantics."
   ]
  },
  {
   "cell_type": "markdown",
   "id": "0f13278b-95fd-437f-a855-34e0785a9d42",
   "metadata": {},
   "source": [
    "# Parsing\n",
    "\n",
    "Consider the \"env\" DSL I described earlier, which is like Python except all-caps variable names are looked up in the OS environment. In this section we will start with a \"dummy\" definition of an env function `f` (standing in for an input to a decorator), and parse it to produce an AST. Even though `f` is expressed as valid Python syntax, we will think of it as being env code.\n",
    "\n",
    "Here is the definition of `f`:"
   ]
  },
  {
   "cell_type": "code",
   "execution_count": 3,
   "id": "2e13e9a0-393a-40ba-95d5-1e148a5be386",
   "metadata": {},
   "outputs": [],
   "source": [
    "def f():  # env code\n",
    "    return \"You are: \" + USER"
   ]
  },
  {
   "cell_type": "markdown",
   "id": "b2c64acb-1350-471f-828c-b8c1bbf033bb",
   "metadata": {},
   "source": [
    "Our first move is to recover and parse `f`'s source. Amazingly, Python provides built-in tools for this, making it as easy as two lines of code."
   ]
  },
  {
   "cell_type": "code",
   "execution_count": 4,
   "id": "399c89bc-c8e8-4803-978e-5f43233b4fdd",
   "metadata": {},
   "outputs": [
    {
     "name": "stdout",
     "output_type": "stream",
     "text": [
      "'def f():  # env code\\n    return \"You are: \" + USER\\n'\n",
      "<ast.Module object at 0x105e81f10>\n"
     ]
    }
   ],
   "source": [
    "import inspect\n",
    "src = inspect.getsource(f)\n",
    "print(repr(src))\n",
    "\n",
    "import ast\n",
    "print(ast.parse(src))"
   ]
  },
  {
   "cell_type": "markdown",
   "id": "23400cc8-5276-49c8-b081-462fd421daae",
   "metadata": {},
   "source": [
    "So far, so good! In principle, this is all we need to get started.\n",
    "\n",
    "But to really do things _right_, we need to do a little bit more work. Importantly, we should save some useful metadata, such as source location, in order to give good error messages down the line."
   ]
  },
  {
   "cell_type": "code",
   "execution_count": 5,
   "id": "beff2618-b9a6-49ab-b53c-a7fe95b4bc39",
   "metadata": {},
   "outputs": [
    {
     "name": "stdout",
     "output_type": "stream",
     "text": [
      "f is defined in: 206327004.py\n",
      "f begins on line: 1\n"
     ]
    }
   ],
   "source": [
    "src_file = inspect.getsourcefile(f)\n",
    "lines, lineno = inspect.getsourcelines(f)\n",
    "\n",
    "import os.path\n",
    "print(\"f is defined in:\", os.path.split(src_file)[-1])\n",
    "print(\"f begins on line:\", lineno)"
   ]
  },
  {
   "cell_type": "markdown",
   "id": "87f2c179-2044-4e72-87e6-18f8240102fe",
   "metadata": {},
   "source": [
    "There is also an important sublety to worry about. Python lets you define functions inside other syntactic constructs, and so definitions may be indented."
   ]
  },
  {
   "cell_type": "code",
   "execution_count": 6,
   "id": "58aad15d-99a8-4765-9938-b51f09fb04a7",
   "metadata": {},
   "outputs": [
    {
     "name": "stdout",
     "output_type": "stream",
     "text": [
      "'    def g():\\n        return \"You are: \" + USER\\n'\n"
     ]
    }
   ],
   "source": [
    "if True:\n",
    "    def g():\n",
    "        return \"You are: \" + USER\n",
    "print(repr(inspect.getsource(g)))  # notice leading whitespace"
   ]
  },
  {
   "cell_type": "markdown",
   "id": "bfb16cef-4e9d-4598-9df9-58ed6c50bccf",
   "metadata": {},
   "source": [
    "Such definitions are a problem because the parser will choke on the leading whitespace — that's not legal Python!"
   ]
  },
  {
   "cell_type": "code",
   "execution_count": 7,
   "id": "676aabd4-95b0-4fc6-b884-059525b5b2de",
   "metadata": {},
   "outputs": [
    {
     "name": "stdout",
     "output_type": "stream",
     "text": [
      "IndentationError: unexpected indent (<unknown>, line 1)\n"
     ]
    }
   ],
   "source": [
    "try:\n",
    "    ast.parse(inspect.getsource(g))\n",
    "except Exception as e:\n",
    "    print(f'{e.__class__.__name__}: {e}')"
   ]
  },
  {
   "cell_type": "markdown",
   "id": "96a8ceac-7bfa-4487-966f-e3dfb35a637f",
   "metadata": {},
   "source": [
    "To handle the general case, we have to first _dedent_ the source:"
   ]
  },
  {
   "cell_type": "code",
   "execution_count": 8,
   "id": "01ca6c70-41ab-4b75-bd54-06a7db4efa27",
   "metadata": {},
   "outputs": [],
   "source": [
    "import textwrap\n",
    "src_ = textwrap.dedent(src)"
   ]
  },
  {
   "cell_type": "markdown",
   "id": "83980d59-42bd-4d81-8ddc-ab9d5b3c5c32",
   "metadata": {},
   "source": [
    "With all of that out of the way, we really _are_ ready to parse the source. Passing the `filename=` argument sets some of the source location information."
   ]
  },
  {
   "cell_type": "code",
   "execution_count": 9,
   "id": "74dccda6-ad87-497e-b01f-7fea335ff131",
   "metadata": {},
   "outputs": [
    {
     "name": "stdout",
     "output_type": "stream",
     "text": [
      "Module(\n",
      "  body=[\n",
      "    FunctionDef(\n",
      "      name='f',\n",
      "      args=arguments(\n",
      "        posonlyargs=[],\n",
      "        args=[],\n",
      "        kwonlyargs=[],\n",
      "        kw_defaults=[],\n",
      "        defaults=[]),\n",
      "      body=[\n",
      "        Return(\n",
      "          value=BinOp(\n",
      "            left=Constant(value='You are: '),\n",
      "            op=Add(),\n",
      "            right=Name(id='USER', ctx=Load())))],\n",
      "      decorator_list=[],\n",
      "      type_params=[])],\n",
      "  type_ignores=[])\n"
     ]
    }
   ],
   "source": [
    "tree = ast.parse(src_, filename=src_file)\n",
    "print(ast.dump(tree, indent=2))"
   ]
  },
  {
   "cell_type": "markdown",
   "id": "2c7c124f-ef64-4270-8644-741a9f9cbd4d",
   "metadata": {},
   "source": [
    "What we get back is a top-level `Module` node containing a single `FunctionDef` node. Typically, what we want to do is extract the `FunctionDef` inside that `Module` and work with that directly.\n",
    "\n",
    "Another catch is that because we were working with the dummy function `f` here, the `decorator_list` is empty. But in general, when we use decorators, the current decorator will appear in `decorator_list`, and we typically want to remove it.\n",
    "\n",
    "So let's perform both of those operations now…"
   ]
  },
  {
   "cell_type": "code",
   "execution_count": 10,
   "id": "0bae70a8-5087-4184-8455-08e8844b06ae",
   "metadata": {},
   "outputs": [],
   "source": [
    "tree = tree.body[0]  # module -> functiondef\n",
    "if len(tree.decorator_list) > 0:\n",
    "    tree.decorator_list.pop(0)"
   ]
  },
  {
   "cell_type": "markdown",
   "id": "60d42e46-6e19-40bd-909d-1b9de40dcedb",
   "metadata": {},
   "source": [
    "The final step is to finally fix-up source location information in the AST, in two steps:\n",
    "1. The call to `ast.increment_lineno` correctly sets the line numbers in the source information (so that instead of being naively marked as \"line 1\", the first line of `f` is the actual `lineno` at which it appeared in the file).\n",
    "2. The call to `ast_increment_colno` fixes column numbers, which got desynchronized from the true source locations when we dedented. Unfortunately, there is no analogous built-in `increment_colno` (to account for the dedenting we did earlier), but that is easy enough to write by hand."
   ]
  },
  {
   "cell_type": "code",
   "execution_count": 11,
   "id": "fdf5c60e-6840-4319-98f6-de9ed7ac8c2d",
   "metadata": {},
   "outputs": [],
   "source": [
    "ast.increment_lineno(tree, n=lineno - 1)\n",
    "\n",
    "def ast_increment_colno(tree: ast.AST, n: int) -> None:\n",
    "    for node in ast.walk(tree):\n",
    "        if isinstance(node, ast.expr) or isinstance(node, ast.stmt):\n",
    "            node.col_offset += n\n",
    "            if node.end_col_offset is not None:\n",
    "                node.end_col_offset += n\n",
    "\n",
    "import re  # figure out how much we dedented by\n",
    "lead_raw = re.match(\"^(.*)\", src)\n",
    "lead_fin = re.match(\"^(.*)\", src_)\n",
    "n_dedent = len(lead_raw.group()) - len(lead_fin.group())\n",
    "ast_increment_colno(tree, n=n_dedent)"
   ]
  },
  {
   "cell_type": "markdown",
   "id": "4e9c1bb8-0784-4074-bce2-1752c1a04605",
   "metadata": {},
   "source": [
    "And that's it! We can print our final AST with source location information by passing `include_attributes=True` to `ast.dump`."
   ]
  },
  {
   "cell_type": "code",
   "execution_count": 12,
   "id": "3a5e56a8-38ea-43f8-9a0a-c3a3fad767a7",
   "metadata": {},
   "outputs": [
    {
     "name": "stdout",
     "output_type": "stream",
     "text": [
      "FunctionDef(\n",
      "  name='f',\n",
      "  args=arguments(\n",
      "    posonlyargs=[],\n",
      "    args=[],\n",
      "    kwonlyargs=[],\n",
      "    kw_defaults=[],\n",
      "    defaults=[]),\n",
      "  body=[\n",
      "    Return(\n",
      "      value=BinOp(\n",
      "        left=Constant(\n",
      "          value='You are: ',\n",
      "          lineno=2,\n",
      "          col_offset=11,\n",
      "          end_lineno=2,\n",
      "          end_col_offset=22),\n",
      "        op=Add(),\n",
      "        right=Name(\n",
      "          id='USER',\n",
      "          ctx=Load(),\n",
      "          lineno=2,\n",
      "          col_offset=25,\n",
      "          end_lineno=2,\n",
      "          end_col_offset=29),\n",
      "        lineno=2,\n",
      "        col_offset=11,\n",
      "        end_lineno=2,\n",
      "        end_col_offset=29),\n",
      "      lineno=2,\n",
      "      col_offset=4,\n",
      "      end_lineno=2,\n",
      "      end_col_offset=29)],\n",
      "  decorator_list=[],\n",
      "  type_params=[],\n",
      "  lineno=1,\n",
      "  col_offset=0,\n",
      "  end_lineno=2,\n",
      "  end_col_offset=29)\n"
     ]
    }
   ],
   "source": [
    "print(ast.dump(tree, include_attributes=True, indent=2))"
   ]
  },
  {
   "cell_type": "markdown",
   "id": "9486a216-e2bf-4eac-81a6-6d19d48d80af",
   "metadata": {},
   "source": [
    "To actually _use_ this source information, I recommend using the built-in `linecache` module. Here is starter code for a function that \"cites\" an AST node by printing the line it appears on and placing a caret at the start of that node."
   ]
  },
  {
   "cell_type": "code",
   "execution_count": 13,
   "id": "a0db3a4f-73fb-4f08-8ee8-d3620fdc8036",
   "metadata": {},
   "outputs": [
    {
     "name": "stdout",
     "output_type": "stream",
     "text": [
      "    return \"You are: \" + USER\n",
      "    ^\n",
      "    return \"You are: \" + USER\n",
      "           ^\n"
     ]
    }
   ],
   "source": [
    "def cite_node(node):\n",
    "    import linecache\n",
    "    line = linecache.getline(src_file, node.lineno)\n",
    "    print(line[:-1])  # strip trailing \\n\n",
    "    print(' ' * node.col_offset + '^')\n",
    "\n",
    "# cite the return statement\n",
    "ret_stmt = tree.body[0]\n",
    "cite_node(ret_stmt)\n",
    "\n",
    "# cite the value being returned\n",
    "ret_val = ret_stmt.value\n",
    "cite_node(ret_val)"
   ]
  },
  {
   "cell_type": "markdown",
   "id": "bf97c163-9010-4283-8ab8-2e6060f09f42",
   "metadata": {},
   "source": [
    "## Compiling\n",
    "\n",
    "Once you have an AST, there are many ways you can start playing with it. One lightweight option, good for small source-to-source transformations, is to use the built-in [`ast.NodeTransformer`](https://docs.python.org/3/library/ast.html#ast.NodeTransformer) class to work with the AST directly. For the env DSL, we can easily write a `NodeTransformer` that transforms the env code to Python code by replacing references to all-caps variables (e.g. `USER`) with lookups in the OS environment."
   ]
  },
  {
   "cell_type": "code",
   "execution_count": 14,
   "id": "b46b7bbd-1de4-4a40-b3b4-0f426eb8c6a2",
   "metadata": {},
   "outputs": [
    {
     "name": "stdout",
     "output_type": "stream",
     "text": [
      "def f():\n",
      "    return 'You are: ' + os.environ['USER']\n"
     ]
    }
   ],
   "source": [
    "class Envify(ast.NodeTransformer):\n",
    "    def visit_Name(self, node):\n",
    "        if not node.id.isupper(): return node\n",
    "        return ast.Subscript(  # generates \"os.environ[NAME]\"\n",
    "            value=ast.Attribute(ast.Name(id='os', ctx=ast.Load()), 'environ', ast.Load()),\n",
    "            slice=ast.Constant(value=node.id),\n",
    "            ctx=node.ctx\n",
    "        )\n",
    "Envify().visit(tree)\n",
    "ast.fix_missing_locations(tree)\n",
    "src_out = ast.unparse(tree)\n",
    "print(src_out)"
   ]
  },
  {
   "cell_type": "markdown",
   "id": "7200f2f4-ba19-4ebb-997c-ef802b947114",
   "metadata": {},
   "source": [
    "The heavier-weight option is to translate the Python AST to a special AST for your DSL, and then to write a bespoke compiler for your DSL.\n",
    "\n",
    "Regardless of how you go about this, you will ultimately have a string that represents your generated Python code. Once you have such a string, the last step is to compile it and return a handle to the compiled function to the caller.\n",
    "\n",
    "Compiling is, in principle, as easy as calling `exec` on the string."
   ]
  },
  {
   "cell_type": "code",
   "execution_count": 15,
   "id": "6034047a-0919-4777-99cd-c0b7abd1bafe",
   "metadata": {},
   "outputs": [
    {
     "data": {
      "text/plain": [
       "'You are: kartikchandra'"
      ]
     },
     "execution_count": 15,
     "metadata": {},
     "output_type": "execute_result"
    }
   ],
   "source": [
    "exec(src_out)\n",
    "f()"
   ]
  },
  {
   "cell_type": "markdown",
   "id": "52887c3b-e0f4-4a70-826f-5aad0f54c71f",
   "metadata": {},
   "source": [
    "But careful! This executes `src_out` in the scope of the _compiler_. You probably want to execute it in the scope of the _caller_, i.e. where the code was actually written. For example, you may want users of your DSL to be able to access that module's global variables. Calling `exec` naively would instead grant access to the _compiler's_ global variables.\n",
    "\n",
    "To fix this, we need to access the caller's globals and pass them as arguments to `exec`."
   ]
  },
  {
   "cell_type": "code",
   "execution_count": 16,
   "id": "b37a51cf-159d-4009-83b9-2760ef754da0",
   "metadata": {},
   "outputs": [
    {
     "data": {
      "text/plain": [
       "'You are: kartikchandra'"
      ]
     },
     "execution_count": 16,
     "metadata": {},
     "output_type": "execute_result"
    }
   ],
   "source": [
    "exec(src_out, f.__globals__)\n",
    "f()"
   ]
  },
  {
   "cell_type": "markdown",
   "id": "e8b1d566-9268-4979-8cea-3cb994bd5234",
   "metadata": {},
   "source": [
    "But now we have another problem. Currently, we're able to call the updated `f()` because `src_out` defines `f` in the global namespace. But in general, we might not want decorators to write to (and pollute) the global namespace. Instead, we would like to run `src_out` in a special private namespace and then extract the defined `f`. This requires a third argument to `exec`:"
   ]
  },
  {
   "cell_type": "code",
   "execution_count": 17,
   "id": "af01d888-b43d-41d7-9a74-08e825dfbdf0",
   "metadata": {},
   "outputs": [
    {
     "data": {
      "text/plain": [
       "'You are: kartikchandra'"
      ]
     },
     "execution_count": 17,
     "metadata": {},
     "output_type": "execute_result"
    }
   ],
   "source": [
    "retvals = {}\n",
    "exec(src_out, f.__globals__, retvals)\n",
    "f = retvals[f.__name__]\n",
    "f()"
   ]
  },
  {
   "cell_type": "markdown",
   "id": "2645d9f9-21e9-4685-b3c0-fc728fb32cfe",
   "metadata": {},
   "source": [
    "Perfect! Let me summarize by packing all of the above into an actual decorator."
   ]
  },
  {
   "cell_type": "code",
   "execution_count": 18,
   "id": "779bbc6d-5dd2-4a77-ab9a-aa28e74f0bef",
   "metadata": {},
   "outputs": [],
   "source": [
    "def env(f=None, **kwargs):\n",
    "    # This trick lets us pass in optional arguments to the decorator via @env(...),\n",
    "    # while still using @env without parentheses if no arguments are needed.\n",
    "    if f is None: return lambda f: env(f, **kwargs)\n",
    "\n",
    "    # get source\n",
    "    import inspect\n",
    "    src = inspect.getsource(f)\n",
    "    src_file = inspect.getsourcefile(f)\n",
    "    lines, lineno = inspect.getsourcelines(f)\n",
    "\n",
    "    # fixup indentation\n",
    "    import textwrap, re\n",
    "    src_ = textwrap.dedent(src)\n",
    "    lead_raw = re.match(\"^(.*)\", src)\n",
    "    lead_fin = re.match(\"^(.*)\", src_)\n",
    "    n_dedent = len(lead_raw.group()) - len(lead_fin.group())\n",
    "\n",
    "    # parse\n",
    "    import ast\n",
    "    tree = ast.parse(src_, filename=src_file)\n",
    "\n",
    "    # extract function body and remove current decorator\n",
    "    tree = tree.body[0]\n",
    "    if len(tree.decorator_list) > 0:\n",
    "        tree.decorator_list.pop(0)\n",
    "\n",
    "    # fixup source location metadata\n",
    "    ast.increment_lineno(tree, n=lineno - 1)\n",
    "    ast_increment_colno(tree, n=n_dedent)\n",
    "\n",
    "    # actually implement the DSL!\n",
    "    Envify().visit(tree)\n",
    "    ast.fix_missing_locations(tree)\n",
    "    src_out = 'import os\\n' + ast.unparse(tree)  # \"codegen\"\n",
    "\n",
    "    # process optional arguments, e.g. for debugging\n",
    "    if kwargs.get('print_codegen', False):\n",
    "        print('# Generated code:')\n",
    "        print(src_out)\n",
    "        print()\n",
    "\n",
    "    # compile\n",
    "    retvals = {}\n",
    "    exec(src_out, f.__globals__, retvals)\n",
    "    return retvals[f.__name__]"
   ]
  },
  {
   "cell_type": "markdown",
   "id": "867a01e6-7a0b-400a-a5d6-9c41fb90a4d8",
   "metadata": {},
   "source": [
    "Using this DSL is as easy as applying the `@env` decorator to a function:"
   ]
  },
  {
   "cell_type": "code",
   "execution_count": 19,
   "id": "c9a5bad1-ec15-4e35-ad45-dd49376f9bfc",
   "metadata": {},
   "outputs": [
    {
     "name": "stdout",
     "output_type": "stream",
     "text": [
      "vim cat /bin/bash\n"
     ]
    }
   ],
   "source": [
    "@env\n",
    "def print_info():\n",
    "    print(EDITOR, PAGER, SHELL)\n",
    "print_info()"
   ]
  },
  {
   "cell_type": "markdown",
   "id": "936f958b-227e-40b0-80e4-53a98848367c",
   "metadata": {},
   "source": [
    "We can also ask for the generated code by passing in the optional argument `print_codegen=True` to the decorator."
   ]
  },
  {
   "cell_type": "code",
   "execution_count": 20,
   "id": "2f4f8080-b1cd-4e0c-9eee-684340420600",
   "metadata": {},
   "outputs": [
    {
     "name": "stdout",
     "output_type": "stream",
     "text": [
      "# Generated code:\n",
      "import os\n",
      "def is_good():\n",
      "    print(os.environ['EDITOR'] == 'vim')\n",
      "\n"
     ]
    }
   ],
   "source": [
    "@env(print_codegen=True)\n",
    "def is_good():\n",
    "    print(EDITOR == 'vim')"
   ]
  },
  {
   "cell_type": "markdown",
   "id": "20a5c5c0-48ac-4556-9f71-f5d1ab8eaf63",
   "metadata": {},
   "source": [
    "### More on scope\n",
    "\n",
    "Notice that because of our careful handling of scoping in `exec`, we can create definitions within another function's scope, and they don't \"leak\" into the global scope."
   ]
  },
  {
   "cell_type": "code",
   "execution_count": 21,
   "id": "9dc3399a-34ed-483f-9ea3-18d506c05055",
   "metadata": {},
   "outputs": [
    {
     "name": "stdout",
     "output_type": "stream",
     "text": [
      "kartikchandra\n",
      "NameError: name 'printer' is not defined\n"
     ]
    }
   ],
   "source": [
    "def make_printer():\n",
    "    @env\n",
    "    def printer():\n",
    "        print(USER)\n",
    "    return printer\n",
    "\n",
    "try:\n",
    "    make_printer()()\n",
    "    printer()\n",
    "except NameError as e:\n",
    "    print(f'{e.__class__.__name__}: {e}')"
   ]
  },
  {
   "cell_type": "markdown",
   "id": "66967ca6-14ff-4b63-897c-e6950a4b7bf5",
   "metadata": {},
   "source": [
    "This is good! It means we can write nice, modular code in Art-Deco DSLs. However, one issue is that the Art-Deco pattern doesn't let us access _local_ variables, because we only pass _globals_ into `exec`. For example, we would really like this to work, but it raises an error because `greeting` is local to `make_printer`:"
   ]
  },
  {
   "cell_type": "code",
   "execution_count": 22,
   "id": "19795f99-c013-4681-971d-12cfa880e658",
   "metadata": {},
   "outputs": [
    {
     "name": "stdout",
     "output_type": "stream",
     "text": [
      "NameError: name 'greeting' is not defined\n"
     ]
    }
   ],
   "source": [
    "def make_printer(greeting=\"Hello\"):\n",
    "    @env\n",
    "    def printer():\n",
    "        print(greeting, USER)\n",
    "    return printer\n",
    "\n",
    "try:\n",
    "    make_printer()()\n",
    "except NameError as e:\n",
    "    print(f'{e.__class__.__name__}: {e}')"
   ]
  },
  {
   "cell_type": "markdown",
   "id": "315dc1e6-5f17-46c5-b3ec-2f467ee8a077",
   "metadata": {},
   "source": [
    "We might imagine capturing `greeting` by calling `locals()` in `env` and passing that into `exec` as well, but that is only a short-term fix. Even `locals()` cannot help us capture `greeting` in this case:\n",
    "\n",
    "```python\n",
    "def f(greeting=\"Hello\"):\n",
    "    def g():\n",
    "        @env\n",
    "        def printer():\n",
    "            print(greeting, USER)\n",
    "        return printer\n",
    "    return g()\n",
    "f()\n",
    "```\n",
    "\n",
    "because `greeting` is no longer part of `locals()` but rather inherited from the enclosing scope. Indeed, there is a good reason why variables like `greeting` should in general not be capturable at all from `exec`: we would like Python to be able to garbage-collect unused values after `f` executes, but if we allow referencing arbitrary bindings with `exec()` then Python would never be able to garbage-collect anything.\n",
    "\n",
    "So… are we stuck? Do we have to disallow working in non-global scope? Ideally not: sometimes it really _is_ necessary to work in a non-global scope, such as when parametrically generating code in a library, or when writing multiple DSL functions that refer to each other in a mutually-recursive fashion.\n",
    "\n",
    "In such cases, one strategy is to use what I call \"virtual modules\": dynamically-generated bespoke global namespaces where we can \"install\" any names we'd like.\n",
    "\n",
    "Setting up a virtual module is a bit of a hassle, but here is some arcane starter code:"
   ]
  },
  {
   "cell_type": "code",
   "execution_count": 23,
   "id": "dca6a31b-113a-445f-87dc-a798ddda8459",
   "metadata": {},
   "outputs": [],
   "source": [
    "import importlib.abc, importlib.util\n",
    "\n",
    "class StringLoader(importlib.abc.SourceLoader):\n",
    "    def __init__(self, data):\n",
    "        self.data = data\n",
    "    def get_source(self, fullname):\n",
    "        return self.data\n",
    "    def get_data(self, path):\n",
    "        return self.data.encode(\"utf-8\")\n",
    "    def get_filename(self, fullname):\n",
    "        return \"<dynamic>\"\n",
    "\n",
    "def make_module(name):\n",
    "    loader = StringLoader('''def install(x): exec(x, globals()); return globals()''')\n",
    "    spec = importlib.util.spec_from_loader(name, loader, origin=\"built-in\")\n",
    "    module = importlib.util.module_from_spec(spec)\n",
    "    spec.loader.exec_module(module)\n",
    "    return module"
   ]
  },
  {
   "cell_type": "markdown",
   "id": "b1e09918-9945-4b10-abeb-b09d8ae097f0",
   "metadata": {},
   "source": [
    "Now, we can initialize and write to a virtual module."
   ]
  },
  {
   "cell_type": "code",
   "execution_count": 24,
   "id": "4de0e8de-dd39-43cf-a441-a70ee936ac09",
   "metadata": {},
   "outputs": [
    {
     "name": "stdout",
     "output_type": "stream",
     "text": [
      "<module 'my_virtual_module' (built-in)>\n"
     ]
    },
    {
     "data": {
      "text/plain": [
       "['__builtins__',\n",
       " '__doc__',\n",
       " '__loader__',\n",
       " '__name__',\n",
       " '__package__',\n",
       " '__spec__',\n",
       " 'greeting',\n",
       " 'install']"
      ]
     },
     "execution_count": 24,
     "metadata": {},
     "output_type": "execute_result"
    }
   ],
   "source": [
    "m = make_module('my_virtual_module')\n",
    "print(m)\n",
    "\n",
    "m.greeting = \"Hello\"\n",
    "dir(m)"
   ]
  },
  {
   "cell_type": "markdown",
   "id": "6a0f27ef-18ad-4e44-9e3d-262c8db16b08",
   "metadata": {},
   "source": [
    "We can \"install\" a definition in the module's namespace by calling `install`."
   ]
  },
  {
   "cell_type": "code",
   "execution_count": 25,
   "id": "63c88eee-87b7-45e0-861b-244ffddaefa4",
   "metadata": {},
   "outputs": [
    {
     "name": "stdout",
     "output_type": "stream",
     "text": [
      "Hello world!\n"
     ]
    }
   ],
   "source": [
    "f = m.install('''\n",
    "def f(): print(greeting, \"world!\")\n",
    "''')['f']\n",
    "\n",
    "f()"
   ]
  },
  {
   "cell_type": "markdown",
   "id": "e1de147f-26f8-46d3-8392-4ab5406ee203",
   "metadata": {},
   "source": [
    "Notice that `f` now _can_ capture `greeting` from the module `m`'s global scope. Similarly, `f` would be able to refer to a function `g` that we are yet to define, as long a `g` is installed into the same module `m`.\n",
    "\n",
    "The rest is plumbing: we just need to forward relevant variables to `m`, and then run `m.install` instead of `exec` inside our decorator."
   ]
  },
  {
   "cell_type": "markdown",
   "id": "7901a79c-9133-404e-89c4-a7358a213528",
   "metadata": {},
   "source": [
    "# Conclusion\n",
    "\n",
    "In this guide I summarized the key ideas behind building Art-Deco DSLs. I showed you how to work with decorators, how to parse input Python code (being careful about source location), and how to run generated Python code (being careful about scope). I hope you find these tools useful as you go about building your own Art-Deco DSLs!"
   ]
  }
 ],
 "metadata": {
  "kernelspec": {
   "display_name": "Python 3 (ipykernel)",
   "language": "python",
   "name": "python3"
  },
  "language_info": {
   "codemirror_mode": {
    "name": "ipython",
    "version": 3
   },
   "file_extension": ".py",
   "mimetype": "text/x-python",
   "name": "python",
   "nbconvert_exporter": "python",
   "pygments_lexer": "ipython3",
   "version": "3.12.4"
  }
 },
 "nbformat": 4,
 "nbformat_minor": 5
}
